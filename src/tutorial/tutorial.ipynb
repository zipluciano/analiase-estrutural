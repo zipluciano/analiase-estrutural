{
  "cells": [
    {
      "cell_type": "markdown",
      "metadata": {},
      "source": [
        "# Aula 07. Introdução ao ambiente JupyterLab\n"
      ]
    },
    {
      "cell_type": "code",
      "execution_count": 3,
      "metadata": {},
      "outputs": [],
      "source": [
        "import numpy as np"
      ]
    },
    {
      "cell_type": "markdown",
      "metadata": {},
      "source": [
        "<h3>Primeira aula</h3>\n"
      ]
    },
    {
      "cell_type": "code",
      "execution_count": 4,
      "metadata": {},
      "outputs": [
        {
          "name": "stdout",
          "output_type": "stream",
          "text": [
            "5.0\n"
          ]
        }
      ],
      "source": [
        "b = 0.12\n",
        "h = 0.4\n",
        "c = np.sqrt(5**2)\n",
        "print(c)\n"
      ]
    },
    {
      "cell_type": "code",
      "execution_count": 5,
      "metadata": {},
      "outputs": [],
      "source": [
        "I = b * h**3 / 12\n",
        "A = b * h"
      ]
    },
    {
      "cell_type": "markdown",
      "metadata": {},
      "source": [
        "### Funções Trigonométricas\n"
      ]
    },
    {
      "cell_type": "code",
      "execution_count": 6,
      "metadata": {},
      "outputs": [
        {
          "name": "stdout",
          "output_type": "stream",
          "text": [
            "6.123233995736766e-17\n",
            "1.0\n"
          ]
        }
      ],
      "source": [
        "c = np.cos(np.pi / 2)\n",
        "print(c)\n",
        "s = np.sin(np.pi / 2)\n",
        "print(s)"
      ]
    },
    {
      "cell_type": "code",
      "execution_count": 7,
      "metadata": {},
      "outputs": [
        {
          "name": "stdout",
          "output_type": "stream",
          "text": [
            "3.141592653589793\n"
          ]
        }
      ],
      "source": [
        "print(np.pi)"
      ]
    },
    {
      "cell_type": "markdown",
      "metadata": {},
      "source": [
        "### Solução de sistemas de equações: $\\mathbf{K}\\mathbf{x}=\\mathbf{F}$, Kx=F\n"
      ]
    },
    {
      "cell_type": "code",
      "execution_count": 8,
      "metadata": {},
      "outputs": [
        {
          "name": "stdout",
          "output_type": "stream",
          "text": [
            "1562500.0\n"
          ]
        }
      ],
      "source": [
        "# Declaração de K e F\n",
        "K = np.array([[5.21, 13.02], [13.02, 41.67]])\n",
        "F = np.array([553385.41, 1562500])\n",
        "print(F[1])"
      ]
    },
    {
      "cell_type": "code",
      "execution_count": 9,
      "metadata": {},
      "outputs": [
        {
          "name": "stdout",
          "output_type": "stream",
          "text": [
            "[57078.66563893 19662.4855623 ]\n"
          ]
        }
      ],
      "source": [
        "# Solução do sistema de equações:\n",
        "x = np.linalg.solve(K, F)\n",
        "print(x)"
      ]
    },
    {
      "cell_type": "markdown",
      "metadata": {},
      "source": [
        "#### Operações matriciais\n"
      ]
    },
    {
      "cell_type": "code",
      "execution_count": 10,
      "metadata": {},
      "outputs": [
        {
          "name": "stdout",
          "output_type": "stream",
          "text": [
            "[ 553385.41 1562500.  ]\n",
            "[[0. 0.]\n",
            " [0. 0.]\n",
            " [0. 0.]\n",
            " [0. 0.]]\n",
            "[[1. 1. 1. 1. 1. 1.]\n",
            " [1. 1. 1. 1. 1. 1.]\n",
            " [1. 1. 1. 1. 1. 1.]]\n"
          ]
        }
      ],
      "source": [
        "FF = np.matmul(K, x)\n",
        "print(FF)\n",
        "A = np.zeros([4, 2])\n",
        "print(A)\n",
        "B = np.ones([3, 6])\n",
        "print(B)"
      ]
    },
    {
      "cell_type": "markdown",
      "metadata": {},
      "source": [
        "### Operações condicionais: if-else\n"
      ]
    },
    {
      "cell_type": "code",
      "execution_count": 11,
      "metadata": {},
      "outputs": [
        {
          "name": "stdout",
          "output_type": "stream",
          "text": [
            "Altura viga é 40 cm\n"
          ]
        }
      ],
      "source": [
        "# if-else\n",
        "if h == 0.4:\n",
        "    print(\"Altura viga é 40 cm\")\n",
        "else:\n",
        "    print(\"Sei lá qual é a altura hehehe\")"
      ]
    },
    {
      "cell_type": "code",
      "execution_count": 12,
      "metadata": {},
      "outputs": [
        {
          "name": "stdout",
          "output_type": "stream",
          "text": [
            "Sei lá qual é a altura hehehe\n"
          ]
        }
      ],
      "source": [
        "# il-elseif\n",
        "h = 0.22\n",
        "if h == 0.40:\n",
        "    print(\"Altura viga é 40 cm\")\n",
        "elif h == 0.30:\n",
        "    print(\"Altura da viga é 30 cm\")\n",
        "elif h == 0.20:\n",
        "    print(\"Altura da viga é 20 cm\")\n",
        "else:\n",
        "    print(\"Sei lá qual é a altura hehehe\")"
      ]
    },
    {
      "cell_type": "markdown",
      "metadata": {},
      "source": [
        "### Loop utilizando \"for\n"
      ]
    },
    {
      "cell_type": "code",
      "execution_count": 13,
      "metadata": {},
      "outputs": [
        {
          "name": "stdout",
          "output_type": "stream",
          "text": [
            "[[0. 0.]\n",
            " [0. 0.]]\n",
            "[[3.06235412e+11 8.64664703e+11]\n",
            " [8.64664703e+11 2.44140625e+12]]\n"
          ]
        }
      ],
      "source": [
        "A = np.zeros([2, 2])\n",
        "print(A)\n",
        "for i in range(2):\n",
        "    for j in range(2):\n",
        "        A[i, j] = F[i] * F[j]\n",
        "\n",
        "print(A)"
      ]
    },
    {
      "cell_type": "code",
      "execution_count": 14,
      "metadata": {},
      "outputs": [],
      "source": [
        "## Primeira aula"
      ]
    },
    {
      "cell_type": "code",
      "execution_count": 21,
      "metadata": {},
      "outputs": [],
      "source": [
        "b1, b2, h2, b3 = 0.1, 0.15, 0.4, 0.2"
      ]
    },
    {
      "cell_type": "code",
      "execution_count": 23,
      "metadata": {},
      "outputs": [],
      "source": [
        "A1 = b1 ** 2\n",
        "A2 = b2 * h2\n",
        "A3 = b3 ** 2\n",
        "I1 = (b1 ** 4) / 12\n",
        "I2 = (b2 * (h2 ** 3)) / 12\n",
        "I3 = (b3 ** 4) / 12\n",
        "E1 = 15 * (10 ** 9)"
      ]
    },
    {
      "cell_type": "code",
      "execution_count": 28,
      "metadata": {},
      "outputs": [
        {
          "data": {
            "text/plain": [
              "142.54443562202565"
            ]
          },
          "execution_count": 28,
          "metadata": {},
          "output_type": "execute_result"
        }
      ],
      "source": [
        "constants = [[2560, 3 * E1 * I1],\n",
        "             [4040, 3 * E1 * I2],\n",
        "             [400, 9 * E1 * A1],\n",
        "             [-520, 3 * E1 * A3],\n",
        "             [64, 3 * E1],\n",
        "             [152, E1 * I2],\n",
        "             [72, E1 * I3],\n",
        "             [4, 9 * E1 * A1],\n",
        "             [6, E1 * A2],\n",
        "             [2, 3 * E1 * A3]\n",
        "            ]\n",
        "\n",
        "Hb = 0\n",
        "up = 0\n",
        "down = 0\n",
        "\n",
        "for i in range(0, len(constants)):\n",
        "    if i <= 3:\n",
        "        up = up + constants[i][0] / constants[i][1]\n",
        "    else:\n",
        "        down = down + constants[i][0] / constants[i][1]\n",
        "\n",
        "Hb = up / down\n",
        "Hb"
      ]
    },
    {
      "cell_type": "code",
      "execution_count": null,
      "metadata": {},
      "outputs": [],
      "source": []
    }
  ],
  "metadata": {
    "anaconda-cloud": {},
    "kernelspec": {
      "display_name": "Python 3.8.10 ('.venv': venv)",
      "language": "python",
      "name": "python3"
    },
    "language_info": {
      "codemirror_mode": {
        "name": "ipython",
        "version": 3
      },
      "file_extension": ".py",
      "mimetype": "text/x-python",
      "name": "python",
      "nbconvert_exporter": "python",
      "pygments_lexer": "ipython3",
      "version": "3.8.10"
    },
    "vscode": {
      "interpreter": {
        "hash": "2ba46f2f50602228656e3df310f6cf796dbfd1b299085d299c91589679e15628"
      }
    }
  },
  "nbformat": 4,
  "nbformat_minor": 4
}
