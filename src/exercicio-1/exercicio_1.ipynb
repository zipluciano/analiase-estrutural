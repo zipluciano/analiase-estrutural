{
  "cells": [
    {
      "cell_type": "code",
      "execution_count": null,
      "metadata": {},
      "outputs": [],
      "source": [
        "# %% [markdown]\n",
        "\n",
        "# <img src=\"./exercicio_1.png\" />"
      ]
    },
    {
      "cell_type": "code",
      "execution_count": 1,
      "metadata": {},
      "outputs": [],
      "source": [
        "\n",
        "# geometria das peças (m)\n",
        "b1, b2, h2, b3 = 0.1, 0.15, 0.4, 0.2\n",
        "\n",
        "# geometria da estrutura (m)\n",
        "# pilar lateral esquerdo\n",
        "Be = 4\n",
        "# pilar lateral direito\n",
        "Bd = 6\n",
        "# viga superior\n",
        "Vs = 6\n",
        "\n",
        "# cargas externas\n",
        "# força horizontal (kN)\n",
        "Fh = 40\n",
        "# carga distribuída (kN/m)\n",
        "q = 20"
      ]
    },
    {
      "cell_type": "code",
      "execution_count": 2,
      "metadata": {},
      "outputs": [],
      "source": [
        "\n",
        "A1 = b1**2\n",
        "A2 = b2 * h2\n",
        "A3 = b3**2\n",
        "I1 = (b1**4) / 12\n",
        "I2 = (b2 * (h2**3)) / 12\n",
        "I3 = (b3**4) / 12\n",
        "E1 = 15 * (10**9)"
      ]
    },
    {
      "cell_type": "code",
      "execution_count": 3,
      "metadata": {},
      "outputs": [
        {
          "name": "stdout",
          "output_type": "stream",
          "text": [
            "Hb: +32.66 kN\n"
          ]
        }
      ],
      "source": [
        "\n",
        "# Cálculo da reação Hb\n",
        "\n",
        "constants = [\n",
        "    [2560, 3 * E1 * I1],\n",
        "    [4040, E1 * I2],\n",
        "    [400, 9 * E1 * A1],\n",
        "    [-520, 3 * E1 * A3],\n",
        "    [64, 3 * E1 * I1],\n",
        "    [152, E1 * I2],\n",
        "    [72, E1 * I3],\n",
        "    [4, 9 * E1 * A1],\n",
        "    [6, E1 * A2],\n",
        "    [2, 3 * E1 * A3],\n",
        "]\n",
        "\n",
        "up = 0\n",
        "down = 0\n",
        "\n",
        "for i in range(len(constants)):\n",
        "    if i <= 3:\n",
        "        up = up + constants[i][0] / constants[i][1]\n",
        "    else:\n",
        "        down = down + constants[i][0] / constants[i][1]\n",
        "\n",
        "Hb = up / down\n",
        "\n",
        "print(\"Hb: {:+.2f} kN\".format(Hb))"
      ]
    },
    {
      "cell_type": "code",
      "execution_count": null,
      "metadata": {},
      "outputs": [],
      "source": [
        "\n",
        "Ha = Fh - Hb\n",
        "print(\"Ha: {:+.2f} kN\".format(Ha))"
      ]
    },
    {
      "cell_type": "code",
      "execution_count": null,
      "metadata": {},
      "outputs": [],
      "source": [
        "\n",
        "Va = (((Bd - Be) * Ha) + (q * (Vs**2) / 2) + (-Fh * Bd)) / 6\n",
        "print(\"Va: {:+.2f} kN\".format(Va))"
      ]
    },
    {
      "cell_type": "code",
      "execution_count": null,
      "metadata": {},
      "outputs": [],
      "source": [
        "\n",
        "Vb = (q * Vs) - Va\n",
        "print(\"Vb: {:+.2f} kN\".format(Vb))"
      ]
    },
    {
      "cell_type": "code",
      "execution_count": null,
      "metadata": {},
      "outputs": [],
      "source": [
        "# esforços no pilar esquerdo\n",
        "N1 = abs(Va)\n",
        "M1 = abs(4 * Ha)\n",
        "print(\"N1: {:+.2f} kN\".format(N1))\n",
        "print(\"M1: {:+.2f} kN\".format(M1))"
      ]
    },
    {
      "cell_type": "code",
      "execution_count": null,
      "metadata": {},
      "outputs": [],
      "source": [
        "\n",
        "# esforços na viga superior\n",
        "def bending_moment(va, ha, position):\n",
        "    return (va * position) + (4 * ha) - (10 * (position**2))\n",
        "\n",
        "\n",
        "N2 = abs(Hb)\n",
        "Me = abs(bending_moment(Va, Ha, 0))\n",
        "Mvao = abs(bending_moment(Va, Ha, (Va / 20)))\n",
        "Md = abs(bending_moment(Va, Ha, 6))\n",
        "\n",
        "print(\"Hb: {:+.2f} kN\".format(Hb))\n",
        "print(\"Me: {:+.2f} kN\".format(Me))\n",
        "print(\"Mvao: {:+.2f} kN\".format(Mvao))\n",
        "print(\"Md: {:+.2f} kN\".format(Md))"
      ]
    },
    {
      "cell_type": "code",
      "execution_count": null,
      "metadata": {},
      "outputs": [],
      "source": [
        "\n",
        "# esforços no pilar direito\n",
        "N3 = abs(Vb)\n",
        "M3 = abs(6 * Hb)\n",
        "print(\"N3: {:+.2f} kN\".format(N3))\n",
        "print(\"M3: {:+.2f} kN\".format(M3))"
      ]
    },
    {
      "cell_type": "code",
      "execution_count": null,
      "metadata": {},
      "outputs": [],
      "source": [
        "\n",
        "# tensões internas\n",
        "sig1 = ((N1 / A1) + ((M1 / I1) * (b1 / 2))) / (10 ** (3))\n",
        "print(\"sig1: {:+.2f} MPa\".format(sig1))\n",
        "\n",
        "sig2 = ((N2 / A2) + ((Md / I2) * (b2 / 2))) / (10 ** (3))\n",
        "print(\"sig2: {:+.2f} MPa\".format(sig2))\n",
        "\n",
        "sig3 = ((N3 / A3) + ((Md / I3) * (b3 / 2))) / (10 ** (3))\n",
        "print(\"sig3: {:+.2f} MPa\".format(sig3))"
      ]
    },
    {
      "cell_type": "code",
      "execution_count": null,
      "metadata": {},
      "outputs": [],
      "source": []
    }
  ],
  "metadata": {
    "anaconda-cloud": {},
    "kernelspec": {
      "display_name": "Python 3.9.6 64-bit",
      "language": "python",
      "name": "python3"
    },
    "language_info": {
      "codemirror_mode": {
        "name": "ipython",
        "version": 3
      },
      "file_extension": ".py",
      "mimetype": "text/x-python",
      "name": "python",
      "nbconvert_exporter": "python",
      "pygments_lexer": "ipython3",
      "version": "3.9.6"
    },
    "vscode": {
      "interpreter": {
        "hash": "60d0058e52977fec7495186a58bdac99ff0ad2b4ede4e5a48d119d6676e87334"
      }
    }
  },
  "nbformat": 4,
  "nbformat_minor": 4
}
