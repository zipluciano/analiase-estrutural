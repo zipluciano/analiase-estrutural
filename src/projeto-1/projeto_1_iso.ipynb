{
 "cells": [
  {
   "cell_type": "code",
   "execution_count": 12,
   "metadata": {},
   "outputs": [],
   "source": [
    "import json\n",
    "import numpy as np\n",
    "import pandas as pd"
   ]
  },
  {
   "cell_type": "code",
   "execution_count": 13,
   "metadata": {},
   "outputs": [],
   "source": [
    "dimensions = open(\"./dimensions_projeto_1.json\", \"r\")\n",
    "dimensions_data = json.load(dimensions)[\"dimensions\"]\n",
    "dimensions.close()"
   ]
  },
  {
   "cell_type": "code",
   "execution_count": 14,
   "metadata": {},
   "outputs": [],
   "source": [
    "# dados da estrutura\n",
    "\n",
    "# tensão admissível (Pa)\n",
    "experimental_data = pd.read_csv(\"./Sigma_adm_experimentos.csv\", header=None)\n",
    "mean = experimental_data[0].mean()\n",
    "std_dv = experimental_data[0].std()\n",
    "\n",
    "sig_adm = (mean - 2 * std_dv) * 10 ** 6\n",
    "\n",
    "# massa específica (kg / m3)\n",
    "p = 750\n",
    "\n",
    "# módulo de elasticidade do material (Pa)\n",
    "E = 15 * (10**9)\n",
    "\n",
    "# comprimento: pilar esquerdo | viga superior | pilar direito (m)\n",
    "Lpe, Lvs, Lpd = 4, 6, 6\n",
    "\n",
    "# carga distribuída (kN / m)\n",
    "q = 20\n",
    "\n",
    "# força horizontal (kN)\n",
    "Fh = 40"
   ]
  },
  {
   "cell_type": "code",
   "execution_count": 15,
   "metadata": {},
   "outputs": [],
   "source": [
    "def beam_bending_moment(v, h, position):\n",
    "    return (v * position) + (4 * h) - (((q / 2) * 10**3) * (position**2))"
   ]
  },
  {
   "cell_type": "code",
   "execution_count": 25,
   "metadata": {},
   "outputs": [],
   "source": [
    "def calculate_structure(b1, b2, h2, b3):\n",
    "    A1 = b1 * b1\n",
    "    A2 = b2 * h2\n",
    "    A3 = b3 * b3\n",
    "    I1 = (b1 * (b1**3)) / 12\n",
    "    I2 = (b2 * (h2**3)) / 12\n",
    "    I3 = (b3 * (b3**3)) / 12\n",
    "\n",
    "    Ha = (Fh * 10**3)\n",
    "\n",
    "    Vb = ((((q / 2) * (Lvs ** 2)) + (4 * Fh)) / 6) * 10 ** 3\n",
    "    Va = (Lvs * (q * 10 ** 3)) - Vb\n",
    "\n",
    "    N1 = -Va\n",
    "    M1 = 4 * Ha\n",
    "\n",
    "    N2 = Ha - (Fh * 10**3)\n",
    "    Me = beam_bending_moment(Va, Ha, 0)\n",
    "    Mmiddle_beam = beam_bending_moment(Va, Ha, (Va / (q * 10**3)))\n",
    "    Md = beam_bending_moment(Va, Ha, Lvs)\n",
    "    Mmax = max([abs(Me), abs(Mmiddle_beam), abs(Md)])\n",
    "\n",
    "    N3 = -Vb\n",
    "\n",
    "    sig1 = (abs(N1) / A1) + ((abs(M1) / I1) * (b1 / 2))\n",
    "\n",
    "    sig2 = (abs(N2) / A2) + ((abs(Mmax) / I2) * (h2 / 2))\n",
    "\n",
    "    sig3 = (abs(N3) / A3)\n",
    "\n",
    "    S = np.zeros((3, 1))\n",
    "    fails = np.zeros((3, 1))\n",
    "    tensions = [sig1, sig2, sig3]\n",
    "    for i in range(len(tensions)):\n",
    "        S[i][0] = tensions[i]\n",
    "\n",
    "    for i in range(len(S)):\n",
    "        if S[i][0] > sig_adm:\n",
    "            fails[i][0] = 1\n",
    "\n",
    "    volumes = [A1 * Lpe, A2 * Lvs, A3 * Lpd]\n",
    "    weight = 0\n",
    "    for volume in volumes:\n",
    "        weight = weight + volume * p\n",
    "\n",
    "    result_list = [\n",
    "        b1,\n",
    "        b2,\n",
    "        h2,\n",
    "        b3,\n",
    "        int(weight),\n",
    "        round(N1, 2),\n",
    "        round(N2, 2),\n",
    "        round(N3, 2),\n",
    "        round(M1, 2),\n",
    "        round(Mmax, 2),\n",
    "        0,\n",
    "        round(sig1, 2),\n",
    "        round(sig2, 2),\n",
    "        round(sig3, 2),\n",
    "    ]\n",
    "\n",
    "    if [1] in fails:\n",
    "        return [\"failed\"]\n",
    "    else:\n",
    "        if abs(Mmiddle_beam) > abs(Me) and abs(Mmiddle_beam) > abs(Md):\n",
    "            result_list.append(\"middle_beam\")\n",
    "            return result_list\n",
    "        else:\n",
    "            result_list.append(\"edge\")\n",
    "            return result_list"
   ]
  },
  {
   "cell_type": "code",
   "execution_count": 17,
   "metadata": {},
   "outputs": [],
   "source": [
    "def get_lightweight_structure(structure_info):\n",
    "    lightweight = min([structure[4] for structure in structure_info])\n",
    "\n",
    "    lighter = []\n",
    "\n",
    "    for structure in structure_info:\n",
    "        if structure[4] == lightweight:\n",
    "            lighter.append(structure)\n",
    "\n",
    "    return lighter[0]"
   ]
  },
  {
   "cell_type": "code",
   "execution_count": 18,
   "metadata": {},
   "outputs": [],
   "source": [
    "results = []\n",
    "\n",
    "for dimension in dimensions_data:\n",
    "    results.append(\n",
    "        calculate_structure(dimension[0], dimension[1], dimension[2], dimension[3])\n",
    "    )"
   ]
  },
  {
   "cell_type": "code",
   "execution_count": 19,
   "metadata": {},
   "outputs": [],
   "source": [
    "not_failed = [result for result in results if result[0] != \"failed\"]\n",
    "\n",
    "max_on_middle = [not_fail for not_fail in not_failed if not_fail[-1] == \"middle_beam\"]"
   ]
  },
  {
   "cell_type": "code",
   "execution_count": 20,
   "metadata": {},
   "outputs": [],
   "source": [
    "optimized_options = {\n",
    "    \"middle_beam\": get_lightweight_structure(max_on_middle)\n",
    "}"
   ]
  },
  {
   "cell_type": "code",
   "execution_count": 21,
   "metadata": {},
   "outputs": [],
   "source": [
    "def visualize_data(database):\n",
    "    columns = [\"b (m)\", \"h (m)\", \"Massa (kg)\", \"N (kN)\", \"Mmáx (kN.m)\", \"σ máx (MPa)\"]\n",
    "\n",
    "    firstRow, firstRowIndexes = [], [0, 4, 5, 8, 11]\n",
    "    secondRow, secondRowIndexes = [], [1, 2, 4, 6, 9, 12]\n",
    "    thirdRow, thirdRowIndexes = [], [3, 4, 7, 10, 13]\n",
    "\n",
    "    for i in range(len(database)):\n",
    "        if i in firstRowIndexes:\n",
    "            if i == 0:\n",
    "                firstRow.append(database[i])\n",
    "                firstRow.append(database[i])\n",
    "            else:\n",
    "                firstRow.append(database[i])\n",
    "        if i in secondRowIndexes:\n",
    "            secondRow.append(database[i])\n",
    "        if i in thirdRowIndexes:\n",
    "            if i == 3:\n",
    "                thirdRow.append(database[i])\n",
    "                thirdRow.append(database[i])\n",
    "            else:\n",
    "                thirdRow.append(database[i])\n",
    "\n",
    "    rows = [firstRow, secondRow, thirdRow]\n",
    "\n",
    "    df = pd.DataFrame(rows)\n",
    "    df.columns = columns\n",
    "    df[\"σ máx / σ adm\"] = df[columns[-1]] / sig_adm\n",
    "    df[columns[-1]] = df[columns[-1]] / 10**6\n",
    "    df[columns[3]] = df[columns[3]] / 10**3\n",
    "    df[columns[4]] = df[columns[4]] / 10**3\n",
    "    df.index = [1, 2, 3]\n",
    "    df.index.name = \"Elemento\"\n",
    "\n",
    "    return df"
   ]
  },
  {
   "cell_type": "markdown",
   "metadata": {},
   "source": [
    "### Estrutura ótima (momento máximo no vão) - b1, b2, h2, b3 = 0.48, 0.2, 0.8, 0.10"
   ]
  },
  {
   "cell_type": "code",
   "execution_count": 22,
   "metadata": {},
   "outputs": [
    {
     "name": "stdout",
     "output_type": "stream",
     "text": [
      "Momento máximo no vão da viga\n"
     ]
    },
    {
     "data": {
      "text/html": [
       "<div>\n",
       "<style scoped>\n",
       "    .dataframe tbody tr th:only-of-type {\n",
       "        vertical-align: middle;\n",
       "    }\n",
       "\n",
       "    .dataframe tbody tr th {\n",
       "        vertical-align: top;\n",
       "    }\n",
       "\n",
       "    .dataframe thead th {\n",
       "        text-align: right;\n",
       "    }\n",
       "</style>\n",
       "<table border=\"1\" class=\"dataframe\">\n",
       "  <thead>\n",
       "    <tr style=\"text-align: right;\">\n",
       "      <th></th>\n",
       "      <th>b (m)</th>\n",
       "      <th>h (m)</th>\n",
       "      <th>Massa (kg)</th>\n",
       "      <th>N (kN)</th>\n",
       "      <th>Mmáx (kN.m)</th>\n",
       "      <th>σ máx (MPa)</th>\n",
       "      <th>σ máx / σ adm</th>\n",
       "    </tr>\n",
       "    <tr>\n",
       "      <th>Elemento</th>\n",
       "      <th></th>\n",
       "      <th></th>\n",
       "      <th></th>\n",
       "      <th></th>\n",
       "      <th></th>\n",
       "      <th></th>\n",
       "      <th></th>\n",
       "    </tr>\n",
       "  </thead>\n",
       "  <tbody>\n",
       "    <tr>\n",
       "      <th>1</th>\n",
       "      <td>0.48</td>\n",
       "      <td>0.48</td>\n",
       "      <td>1456</td>\n",
       "      <td>-33.33333</td>\n",
       "      <td>160.00000</td>\n",
       "      <td>8.825231</td>\n",
       "      <td>0.961040</td>\n",
       "    </tr>\n",
       "    <tr>\n",
       "      <th>2</th>\n",
       "      <td>0.20</td>\n",
       "      <td>0.80</td>\n",
       "      <td>1456</td>\n",
       "      <td>0.00000</td>\n",
       "      <td>187.77778</td>\n",
       "      <td>8.802083</td>\n",
       "      <td>0.958519</td>\n",
       "    </tr>\n",
       "    <tr>\n",
       "      <th>3</th>\n",
       "      <td>0.10</td>\n",
       "      <td>0.10</td>\n",
       "      <td>1456</td>\n",
       "      <td>-86.66667</td>\n",
       "      <td>0.00000</td>\n",
       "      <td>8.666667</td>\n",
       "      <td>0.943773</td>\n",
       "    </tr>\n",
       "  </tbody>\n",
       "</table>\n",
       "</div>"
      ],
      "text/plain": [
       "          b (m)  h (m)  Massa (kg)    N (kN)  Mmáx (kN.m)  σ máx (MPa)  \\\n",
       "Elemento                                                                 \n",
       "1          0.48   0.48        1456 -33.33333    160.00000     8.825231   \n",
       "2          0.20   0.80        1456   0.00000    187.77778     8.802083   \n",
       "3          0.10   0.10        1456 -86.66667      0.00000     8.666667   \n",
       "\n",
       "          σ máx / σ adm  \n",
       "Elemento                 \n",
       "1              0.961040  \n",
       "2              0.958519  \n",
       "3              0.943773  "
      ]
     },
     "execution_count": 22,
     "metadata": {},
     "output_type": "execute_result"
    }
   ],
   "source": [
    "print(\"Momento máximo no vão da viga\")\n",
    "visualize_data(optimized_options[\"middle_beam\"])"
   ]
  }
 ],
 "metadata": {
  "anaconda-cloud": {},
  "kernelspec": {
   "display_name": "Python 3.8.13 (conda)",
   "language": "python",
   "name": "python3"
  },
  "language_info": {
   "codemirror_mode": {
    "name": "ipython",
    "version": 3
   },
   "file_extension": ".py",
   "mimetype": "text/x-python",
   "name": "python",
   "nbconvert_exporter": "python",
   "pygments_lexer": "ipython3",
   "version": "3.8.13"
  },
  "vscode": {
   "interpreter": {
    "hash": "2ba46f2f50602228656e3df310f6cf796dbfd1b299085d299c91589679e15628"
   }
  }
 },
 "nbformat": 4,
 "nbformat_minor": 4
}
